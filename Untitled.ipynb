{
 "cells": [
  {
   "cell_type": "markdown",
   "metadata": {},
   "source": [
    "# uncertainty\n",
    "A repository for modified variance as uncertainty measure\n",
    "by Saloua \n",
    "\n",
    "#### Create conda envirioment\n",
    "```\n",
    "conda env create -f environment.yml\n",
    "conda activate ame\n",
    "\n",
    "```\n",
    "\n",
    "#### Install\n",
    "```\n",
    "python3 setup.py build install\n",
    "```\n",
    "#### Install - editable version\n",
    "```\n",
    "pip install -e .\n",
    "```\n",
    "\n",
    "\n",
    "#### Run SVM & RF Classification\n",
    "```\n",
    "python3 scripts/classification -d trento\n",
    "\n",
    "python3 scripts/classification -d bcss\n",
    "```\n",
    "\n",
    "#### Calculate and Save Uncertainty maps for all the output/*.npy files\n",
    "```\n",
    "python3 scripts/calculate_uncertainties.py\n",
    "```\n",
    "\n",
    "Output .npy, logs and uncertainty images files are saved at :\n",
    "\n",
    "```\n",
    "uncertainty\n",
    "│   \n",
    "└───outputs\n",
    "    │   \n",
    "    └───trento\n",
    "    │   │   trento.logs\n",
    "    │   │   trento.npy\n",
    "    │   └───images\n",
    "    │   \n",
    "    └───bcss\n",
    "        │   bcss.logs\n",
    "        │   bcss.npy\n",
    "        └───images\n",
    "```\n",
    "\n",
    "#### To do\n",
    " - correct maximum value for semantic_based_uncertainty and efficient calculation\n",
    " - investigate \"distance\" measurements "
   ]
  },
  {
   "cell_type": "code",
   "execution_count": null,
   "metadata": {},
   "outputs": [],
   "source": []
  }
 ],
 "metadata": {
  "kernelspec": {
   "display_name": "Python 3",
   "language": "python",
   "name": "python3"
  },
  "language_info": {
   "codemirror_mode": {
    "name": "ipython",
    "version": 3
   },
   "file_extension": ".py",
   "mimetype": "text/x-python",
   "name": "python",
   "nbconvert_exporter": "python",
   "pygments_lexer": "ipython3",
   "version": "3.8.10"
  }
 },
 "nbformat": 4,
 "nbformat_minor": 4
}
